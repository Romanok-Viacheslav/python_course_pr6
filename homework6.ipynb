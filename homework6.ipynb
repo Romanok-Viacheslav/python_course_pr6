{
  "nbformat": 4,
  "nbformat_minor": 0,
  "metadata": {
    "colab": {
      "provenance": []
    },
    "kernelspec": {
      "name": "python3",
      "display_name": "Python 3"
    },
    "language_info": {
      "name": "python"
    }
  },
  "cells": [
    {
      "cell_type": "markdown",
      "source": [
        "Оголосіть клас з ім'ям DataBase, який зберігав би в собі наступну інформацію:\n",
        "\n",
        "\n",
        "pk: 1\n",
        "\n",
        "title: \"Класи та об'єкти\"\n",
        "\n",
        "author: \"Васька\"\n",
        "\n",
        "views: 14356\n",
        "\n",
        "comments: 12\n",
        "\n",
        "Імена змінних (атрибутів класу) використовуйте такі ж (pk, title, author, views та comments) з відповідними значеннями."
      ],
      "metadata": {
        "id": "c84KdBpzi1qx"
      }
    },
    {
      "cell_type": "code",
      "execution_count": 3,
      "metadata": {
        "id": "T28anoYWimkT",
        "colab": {
          "base_uri": "https://localhost:8080/"
        },
        "outputId": "81b58f69-2483-4595-f6d6-ca2acd057fa4"
      },
      "outputs": [
        {
          "output_type": "stream",
          "name": "stdout",
          "text": [
            "pk: 1, title: Класи та об'єкти, author: Васька, views: 14356, comments: 12\n"
          ]
        }
      ],
      "source": [
        "class DataBase:\n",
        "    def __init__(self, pk, title, author, views, comments):\n",
        "        self.pk = pk\n",
        "        self.title = title\n",
        "        self.author = author\n",
        "        self.views = views\n",
        "        self.comments = comments\n",
        "\n",
        "data = DataBase(pk=1, title=\"Класи та об'єкти\", author=\"Васька\", views=14356, comments=12)\n",
        "\n",
        "print(f\"pk: {data.pk}, title: {data.title}, author: {data.author}, views: {data.views}, comments: {data.comments}\")"
      ]
    },
    {
      "cell_type": "markdown",
      "source": [
        "\n",
        "Оголосіть клас з ім'ям Goods та пропишіть у ньому наступні атрибути (змінні):\n",
        "\n",
        "\n",
        "title: \"Морозиво\"\n",
        "\n",
        "weight: 154\n",
        "\n",
        "tp: \"Їжа\"\n",
        "\n",
        "price: 1024\n",
        "\n",
        "Потім, після оголошення класу, змініть його атрибут price на значення 2048 і додайте ще один атрибут:\n",
        "\n",
        "\n",
        "inflation: 100\n",
        "\n"
      ],
      "metadata": {
        "id": "Ye8RB_7zjLud"
      }
    },
    {
      "cell_type": "code",
      "source": [
        "class Goods:\n",
        "    def __init__(self, title, weight, tp, price):\n",
        "        self.title = title\n",
        "        self.weight = weight\n",
        "        self.tp = tp\n",
        "        self.price = price\n",
        "\n",
        "goods = Goods(title=\"Морозиво\", weight=154, tp=\"Їжа\", price=1024)\n",
        "\n",
        "goods.price = 2048\n",
        "goods.inflation = 100\n",
        "\n",
        "print(f\"title: {goods.title}, weight: {goods.weight}, tp: {goods.tp}, price: {goods.price}, inflation: {goods.inflation}\")"
      ],
      "metadata": {
        "id": "eq0srTLvjl3a",
        "colab": {
          "base_uri": "https://localhost:8080/"
        },
        "outputId": "496f8907-209d-405d-8a37-20addaaafd2e"
      },
      "execution_count": 4,
      "outputs": [
        {
          "output_type": "stream",
          "name": "stdout",
          "text": [
            "title: Морозиво, weight: 154, tp: Їжа, price: 2048, inflation: 100\n"
          ]
        }
      ]
    },
    {
      "cell_type": "markdown",
      "source": [
        "Оголосіть порожній клас із ім'ям Car. За допомогою функції setattr() додайте до цього класу атрибути:\n",
        "\n",
        "\n",
        "model: \"Тойота\"\n",
        "\n",
        "color: \"Рожевий\"\n",
        "\n",
        "number: \"П111УУ77\"\n",
        "\n",
        "Виведіть на екран значення атрибута color"
      ],
      "metadata": {
        "id": "4UxW0EVcjoz4"
      }
    },
    {
      "cell_type": "code",
      "source": [
        "class Car:\n",
        "    pass\n",
        "\n",
        "car = Car()\n",
        "\n",
        "setattr(car, 'model', 'Тойота')\n",
        "setattr(car, 'color', 'Рожевий')\n",
        "setattr(car, 'number', 'П111УУ77')\n",
        "\n",
        "print(car.color)"
      ],
      "metadata": {
        "id": "gEX4qIMvjogd",
        "colab": {
          "base_uri": "https://localhost:8080/"
        },
        "outputId": "63c92094-38d1-40ee-c447-d5f1e72dca38"
      },
      "execution_count": 8,
      "outputs": [
        {
          "output_type": "stream",
          "name": "stdout",
          "text": [
            "Рожевий\n"
          ]
        }
      ]
    },
    {
      "cell_type": "markdown",
      "source": [
        "Оголосіть клас з ім'ям Notes і визначте у ньому такі атрибути:\n",
        "\n",
        "uid: 1005435\n",
        "\n",
        "title: \"Жарт\"\n",
        "\n",
        "author: \"І.С. Бах\"\n",
        "\n",
        "pages: 2\n",
        "\n",
        "Потім, за допомогою функції getattr() прочитайте та виведіть на екран значення атрибута author."
      ],
      "metadata": {
        "id": "KQthZz1HkEVk"
      }
    },
    {
      "cell_type": "code",
      "source": [
        "class Notes:\n",
        "    def __init__(self, uid, title, author, pages):\n",
        "        self.uid = uid\n",
        "        self.title = title\n",
        "        self.author = author\n",
        "        self.pages = pages\n",
        "\n",
        "notes = Notes(uid=1005435, title=\"Жарт\", author=\"І.С. Бах\", pages=2)\n",
        "\n",
        "author2 = getattr(notes, 'author')\n",
        "print(author2)"
      ],
      "metadata": {
        "id": "u_ANJYulkEpW",
        "colab": {
          "base_uri": "https://localhost:8080/"
        },
        "outputId": "5d482d0d-ce67-483c-8c76-b2a2205f56d6"
      },
      "execution_count": 11,
      "outputs": [
        {
          "output_type": "stream",
          "name": "stdout",
          "text": [
            "І.С. Бах\n"
          ]
        }
      ]
    },
    {
      "cell_type": "markdown",
      "source": [
        "Оголосіть клас з ім'ям Dictionary та визначте в ньому такі атрибути:\n",
        "\n",
        "ua: \"Пайтон\"\n",
        "\n",
        "eng: \"Python\"\n",
        "\n",
        "Потім за допомогою функції getattr() прочитайте та виведіть на екран значення атрибуту ua_word. Якщо такого атрибута в класі немає, то функція getattr() повинна повертати значення False."
      ],
      "metadata": {
        "id": "H1uoxMHvkXAj"
      }
    },
    {
      "cell_type": "code",
      "source": [
        "class Dictionary:\n",
        "    def __init__(self, ua, eng):\n",
        "        self.ua = ua\n",
        "        self.eng = eng\n",
        "\n",
        "dictionary = Dictionary(ua=\"Пайтон\", eng=\"Python\")\n",
        "\n",
        "ua_word = getattr(dictionary, 'ua_word', False)\n",
        "print(ua_word)"
      ],
      "metadata": {
        "id": "nJN7fd0XkvJ-",
        "colab": {
          "base_uri": "https://localhost:8080/"
        },
        "outputId": "9a9ee676-9d4e-4078-c5ba-d428a1759a78"
      },
      "execution_count": 14,
      "outputs": [
        {
          "output_type": "stream",
          "name": "stdout",
          "text": [
            "False\n"
          ]
        }
      ]
    },
    {
      "cell_type": "markdown",
      "source": [
        "Оголосіть клас з ім'ям TravelBlog та оголосіть у ньому атрибут:\n",
        "\n",
        "total_blogs: 0\n",
        "\n",
        "Створіть екземпляр цього класу з ім'ям tb1, сформуйте в ньому дві локальні властивості:\n",
        "\n",
        "name: 'Франція'\n",
        "\n",
        "days: 6\n",
        "\n",
        "Збільште значення атрибуту total_blogs класу TravelBlog на одиницю.\n",
        "\n",
        "Створіть ще один екземпляр класу TravelBlog з ім'ям tb2, сформуйте в ньому дві локальні властивості:\n",
        "\n",
        "name: 'Италія'\n",
        "\n",
        "days: 5\n",
        "\n",
        "Збільште значення атрибуту total_blogs класу TravelBlog на одиницю.\n",
        "\n",
        "PS На екран нічого не потрібно виводити."
      ],
      "metadata": {
        "id": "6yvx1pNdkxJn"
      }
    },
    {
      "cell_type": "code",
      "source": [
        "class TravelBlog:\n",
        "    total_blogs = 0\n",
        "\n",
        "    def __init__(self, name, days):\n",
        "        self.name = name\n",
        "        self.days = days\n",
        "        TravelBlog.total_blogs += 1\n",
        "\n",
        "tb1 = TravelBlog(name='Франція', days=6)\n",
        "tb2 = TravelBlog(name='Италія', days=5)"
      ],
      "metadata": {
        "id": "n14VKfNok_QC"
      },
      "execution_count": 20,
      "outputs": []
    },
    {
      "cell_type": "markdown",
      "source": [
        "Оголосіть клас з ім'ям Figure та двома атрибутами:\n",
        "\n",
        "type_fig: 'ellipse'\n",
        "\n",
        "color: 'red'\n",
        "\n",
        "Створіть екземпляр з ім'ям fig1 цього класу та додайте до нього такі локальні атрибути:\n",
        "\n",
        "start_pt: (10, 5)\n",
        "\n",
        "end_pt: (100, 20)\n",
        "\n",
        "color: 'blue'\n",
        "\n",
        "Видаліть із примірника класу властивість color і виведіть на екран список всіх локальних властивостей (без значень) об'єкта fig1 в один рядок через пробіл у порядку, зазначеному в завданні."
      ],
      "metadata": {
        "id": "RL4HgqXElDoT"
      }
    },
    {
      "cell_type": "code",
      "source": [
        "class Figure:\n",
        "    type_fig = 'ellipse'\n",
        "    color = 'red'\n",
        "\n",
        "    def __init__(self, start_pt, end_pt, color='blue'):\n",
        "        self.start_pt = start_pt\n",
        "        self.end_pt = end_pt\n",
        "        self.color = color\n",
        "\n",
        "fig1 = Figure(start_pt=(10, 5), end_pt=(100, 20), color='blue')\n",
        "\n",
        "delattr(fig1, 'color')\n",
        "\n",
        "print(' '.join([attr for attr in vars(fig1) if not callable(getattr(fig1, attr))]))"
      ],
      "metadata": {
        "id": "r3G9fjDllMxx",
        "colab": {
          "base_uri": "https://localhost:8080/"
        },
        "outputId": "32f3fd84-e01b-4df4-cca1-8a52c59e290c"
      },
      "execution_count": 31,
      "outputs": [
        {
          "output_type": "stream",
          "name": "stdout",
          "text": [
            "start_pt end_pt\n"
          ]
        }
      ]
    },
    {
      "cell_type": "markdown",
      "source": [
        "Оголосіть клас з ім'ям Graph та методами:\n",
        "\n",
        "set_data(data) – передача набору даних data для подальшого відображення (data – список числових даних);\n",
        "\n",
        "draw() - відображення даних (у тому самому порядку, що й у списку data)\n",
        "\n",
        "та атрибутом:\n",
        "\n",
        "LIMIT_Y = [0, 10]\n",
        "\n",
        "Метод set_data() має формувати локальну властивість data об'єкта класу Graph.\n",
        "\n",
        "Атрибут data повинен посилатися на переданий методу список.\n",
        "\n",
        "Метод draw() повинен виводити на екран список у вигляді рядка з чисел, розділених пробілами, що належать заданому діапазону атрибуту LIMIT_Y (кордони включаються).\n",
        "\n",
        "Створіть об'єкт graph_1 класу Graph, викличте для нього метод set_data() та передайте список:\n",
        "\n",
        "[10, -5, 100, 20, 0, 80, 45, 2, 5, 7]\n",
        "\n",
        "Потім викличте метод draw() через об'єкт graph_1. На екрані має з'явитися рядок із відповідним набором чисел, записаних через пробіл. Наприклад (висновок без лапок):\n",
        "\n",
        "\"10 0 2 5 7\""
      ],
      "metadata": {
        "id": "pSuFV3IklPLx"
      }
    },
    {
      "cell_type": "code",
      "source": [
        "class Graph:\n",
        "    LIMIT_Y = [0, 10]\n",
        "\n",
        "    def set_data(self, data):\n",
        "        self.data = [x for x in data if self.LIMIT_Y[0] <= x <= self.LIMIT_Y[1]]\n",
        "\n",
        "    def draw(self):\n",
        "        filtered_data = [str(x) for x in self.data]\n",
        "        print(' '.join(filtered_data))\n",
        "\n",
        "graph_1 = Graph()\n",
        "\n",
        "graph_1.set_data([10, -5, 100, 20, 0, 80, 45, 2, 5, 7])\n",
        "\n",
        "graph_1.draw()"
      ],
      "metadata": {
        "id": "I5mncCOMlusv",
        "colab": {
          "base_uri": "https://localhost:8080/"
        },
        "outputId": "0612cbbb-e4e7-4243-f02f-5d2d20a7e511"
      },
      "execution_count": 32,
      "outputs": [
        {
          "output_type": "stream",
          "name": "stdout",
          "text": [
            "10 0 2 5 7\n"
          ]
        }
      ]
    }
  ]
}